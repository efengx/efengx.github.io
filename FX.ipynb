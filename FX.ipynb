{
 "cells": [
  {
   "cell_type": "code",
   "execution_count": null,
   "metadata": {},
   "outputs": [],
   "source": [
    "# 环境: 使用macos自带的go(1.21.5)\n",
    "!brew info go\n",
    "\n",
    "## 方法2: asdf 安装\n",
    "!asdf plugin-add golang\n",
    "### 查看可用go版本\n",
    "!asdf list-all golang\n",
    "### 安装指定版本的go\n",
    "!asdf install golang 1.22.12\n",
    "### 设置当前目录所用golang语言\n",
    "!asdf local golang 1.22.12\n",
    "### 设置全局go语言版本\n",
    "!asdf global golang 1.22.12\n",
    "\n",
    "### 查看go版本\n",
    "!go version\n",
    "\n",
    "### 可选: 安装 golangci-lint \n",
    "### 来源: https://github.com/hypnoglow/asdf-golangci-lint"
   ]
  },
  {
   "cell_type": "code",
   "execution_count": null,
   "metadata": {},
   "outputs": [],
   "source": [
    "# 环境: 安装 hugo 插件\n",
    "!asdf plugin add hugo https://github.com/NeoHsu/asdf-hugo.git\n",
    "\n",
    "### 查看 hugo 版本\n",
    "!asdf list-all hugo\n",
    "\n",
    "### 安装指定版本, 版本前缀添加 extended_ 表示扩展版本\n",
    "!asdf install hugo extended_0.147.2\n",
    "\n",
    "### 本地加载 hugo 版本\n",
    "!asdf local hugo extended_0.147.2"
   ]
  },
  {
   "cell_type": "code",
   "execution_count": null,
   "metadata": {},
   "outputs": [],
   "source": [
    "# 任务: 安装主题, 克隆所有的主题库\n",
    "### 请删除该主题根文件夹中的 .git 文件夹; 否则 .git 提交会出现问题.\n",
    "!git clone --depth 1 --recursive https://github.com/gohugoio/hugoThemes.git themes\n",
    "\n",
    "### 添加主题\n",
    "!git submodule add https://github.com/alex-shpak/hugo-book themes/hugo-book\n",
    "\n",
    "### 按照指定的主题启动服务\n",
    "!hugo server --minify --theme hugo-book\n",
    "!hugo server --minify --theme ananke\n",
    "\n",
    "### 在配置文件中指定主题 config.toml 中添加 theme: hugo-book"
   ]
  },
  {
   "cell_type": "code",
   "execution_count": null,
   "metadata": {},
   "outputs": [],
   "source": [
    "# 任务：创建新的文章\n",
    "# 参考：https://gohugo.io/content-management/multilingual/\n",
    "# 说明：-c参数无效，默认创建在zh语言下\n",
    "!hugo new content/en/post/audio_transcription.md"
   ]
  },
  {
   "cell_type": "code",
   "execution_count": null,
   "metadata": {},
   "outputs": [],
   "source": [
    "# 手动更新主题\n",
    "!hugo mod get -u github.com/CaiJimmy/hugo-theme-stack/v3\n",
    "!hugo mod tidy\n",
    "\n",
    "# 更改主题\n",
    "!hugo -t hugo-theme-stack\n",
    "\n",
    "\n",
    "# 任务：(debug)启动本地环境\n",
    "!hugo server -D\n"
   ]
  },
  {
   "cell_type": "code",
   "execution_count": null,
   "metadata": {},
   "outputs": [],
   "source": [
    "# 任务：发布到github\n",
    "!git pull origin main\n",
    "\n",
    "# 远程地址\n",
    "!https://github.com/efengx/efengx.github.io.git"
   ]
  }
 ],
 "metadata": {
  "kernelspec": {
   "display_name": "Python 3",
   "language": "python",
   "name": "python3"
  },
  "language_info": {
   "codemirror_mode": {
    "name": "ipython",
    "version": 3
   },
   "file_extension": ".py",
   "mimetype": "text/x-python",
   "name": "python",
   "nbconvert_exporter": "python",
   "pygments_lexer": "ipython3",
   "version": "3.9.16"
  },
  "orig_nbformat": 4
 },
 "nbformat": 4,
 "nbformat_minor": 2
}
